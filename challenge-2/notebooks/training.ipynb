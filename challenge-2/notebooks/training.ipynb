{
 "cells": [
  {
   "cell_type": "code",
   "execution_count": null,
   "id": "8b6dbbf1",
   "metadata": {
    "vscode": {
     "languageId": "plaintext"
    }
   },
   "outputs": [],
   "source": [
    "# notebooks/training.ipynb\n",
    "\n",
    "# -------------------------\n",
    "# Soil Image Classification Challenge - Part 2\n",
    "# The Soil Image Classification Challenge is a machine learning competition organised by Annam.ai at IIT Ropar, serving as an initial task for shortlisted hackathon participants.\n",
    "# Task: Classify provided image as Soil or NotSoil image , given Single label Binary Image classification.\n",
    "# Team Name: RootCoders\n",
    "# Team Members : Amit Lakhera, Vikramjeet, Pradipta Das, Jyoti Ghungru, Sukanya Saha\n",
    "# -------------------------\n",
    "\n",
    "from soil_classification import SoilClassificationModel\n",
    "\n",
    "def main():\n",
    "    # Update these paths to your actual data locations\n",
    "    train_folder = \"/kaggle/input/soil-classification-part-2/soil_competition-2025/train\"          # Modify to your image folder path\n",
    "    train_csv = \"/kaggle/input/soil-classification-part-2/soil_competition-2025/train/train_labels.csv\"  # Modify to your label csv\n",
    "\n",
    "    # Initialize the model (you can adjust nu, kernel, gamma if needed)\n",
    "    model = SoilClassificationModel(kernel='rbf', gamma='auto', nu=0.1)\n",
    "\n",
    "    print(\"Starting training process...\")\n",
    "\n",
    "    # Train the model on all available training data\n",
    "    model.fit(target_folder=train_folder, labels_csv=train_csv)\n",
    "\n",
    "    # Save the trained model for future inference or testing\n",
    "    model.save_model(\"soil_classification_model.pkl\")\n",
    "\n",
    "    print(\"Training completed and model saved as 'soil_classification_model.pkl'.\")\n",
    "\n",
    "if __name__ == \"__main__\":\n",
    "    main()\n",
    "\n"
   ]
  }
 ],
 "metadata": {
  "language_info": {
   "name": "python"
  }
 },
 "nbformat": 4,
 "nbformat_minor": 5
}
