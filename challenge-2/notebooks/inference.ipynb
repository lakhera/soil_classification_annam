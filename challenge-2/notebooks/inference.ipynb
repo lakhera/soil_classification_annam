{
 "cells": [
  {
   "cell_type": "code",
   "execution_count": null,
   "id": "24670065",
   "metadata": {
    "vscode": {
     "languageId": "plaintext"
    }
   },
   "outputs": [],
   "source": [
    "# notebooks/inference.ipynb\n",
    "\n",
    "# -------------------------\n",
    "# Soil Image Classification Challenge - Part 2\n",
    "# The Soil Image Classification Challenge is a machine learning competition organised by Annam.ai at IIT Ropar, serving as an initial task for shortlisted hackathon participants.\n",
    "# Task: Classify provided image as Soil or NotSoil image , given Single label Binary Image classification.\n",
    "# Team Name: RootCoders\n",
    "# Team Members : Amit Lakhera, Vikramjeet, Pradipta Das, Jyoti Ghungru, Sukanya Saha\n",
    "# -------------------------\n",
    "\n",
    "from soil_classification import SoilClassificationModel\n",
    "\n",
    "# Update these paths to your actual directories\n",
    "train_folder = \"/kaggle/input/soil-classification-part-2/soil_competition-2025/train\"         # Modify to your train image folder path\n",
    "test_folder = \"/kaggle/input/soil-classification-part-2/soil_competition-2025/test\"           # Modify to your test image folder path\n",
    "train_csv = \"/kaggle/input/soil-classification-part-2/soil_competition-2025/train_labels.csv\" # Modify to your train csv path\n",
    "test_csv = \"/kaggle/input/soil-classification-part-2/soil_competition-2025/test_ids.csv\"      # Modify to your test csv path\n",
    "\n",
    "# Initialize model with parameters from code\n",
    "model = SoilClassificationModel(\n",
    "    kernel='rbf',\n",
    "    gamma='auto',\n",
    "    nu=0.1  # Anomaly detection sensitivity (0.1 from code example)\n",
    ")\n",
    "\n",
    "# Full training and testing pipeline\n",
    "trained_model, validation_metrics = model.train_and_evaluate_model(\n",
    "    train_folder=train_folder,\n",
    "    test_folder=test_folder,\n",
    "    train_csv=train_csv,\n",
    "    test_csv=test_csv,\n",
    "    validation_split=0.2  # 20% validation split as in code\n",
    ")\n",
    "\n",
    "# To load saved model and test separately (alternative approach)\n",
    "model = SoilClassificationModel.load_model(\"soil_classification_model.pkl\")\n",
    "image_ids, predictions = model.predict(test_folder, test_csv)\n",
    "print(\"Complete\")\n",
    "\n",
    "# Output will be:\n",
    "# - submission.csv with test predictions\n",
    "# - Confusion matrix plot\n",
    "# - Metrics comparison plot\n",
    "# - Prediction distribution plot\n",
    "# - Sample image predictions grid\n",
    "\n",
    "\n"
   ]
  }
 ],
 "metadata": {
  "language_info": {
   "name": "python"
  }
 },
 "nbformat": 4,
 "nbformat_minor": 5
}
