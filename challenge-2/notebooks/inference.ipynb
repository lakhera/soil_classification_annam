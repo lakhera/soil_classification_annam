{
 "cells": [
  {
   "cell_type": "code",
   "execution_count": null,
   "id": "24670065",
   "metadata": {
    "vscode": {
     "languageId": "plaintext"
    }
   },
   "outputs": [],
   "source": [
    "# notebooks/inference.ipynb\n",
    "\n",
    "import os\n",
    "import pandas as pd\n",
    "import torch\n",
    "from torchvision import models\n",
    "from torch.utils.data import DataLoader\n",
    "from src.preprocessing import SoilDataset, get_transforms\n",
    "from src.postprocessing import map_predictions\n",
    "\n",
    "# Paths\n",
    "test_dir = \"/kaggle/input/soil-classification/soil_classification-2025/test/\"\n",
    "test_ids_csv = \"/kaggle/input/soil-classification/soil_classification-2025/test_ids.csv\"\n",
    "model_path = \"/kaggle/working/soil_resnet18.pth\"\n",
    "submission_path = \"/kaggle/working/submission.csv\"\n",
    "\n",
    "# Load model\n",
    "model = models.resnet18(pretrained=False)\n",
    "model.fc = torch.nn.Linear(model.fc.in_features, 4)\n",
    "model.load_state_dict(torch.load(model_path, map_location=\"cpu\"))\n",
    "model = model.to(\"cuda\" if torch.cuda.is_available() else \"cpu\")\n",
    "model.eval()\n",
    "\n",
    "# Prepare test data\n",
    "test_ids = pd.read_csv(test_ids_csv)\n",
    "transform = get_transforms(train=False)\n",
    "test_dataset = SoilDataset(test_dir, test_ids, transform=transform, is_test=True)\n",
    "test_loader = DataLoader(test_dataset, batch_size=32, shuffle=False)\n",
    "\n",
    "# Inference\n",
    "predictions = []\n",
    "with torch.no_grad():\n",
    "    for inputs in test_loader:\n",
    "        inputs = inputs.to(\"cuda\")\n",
    "        outputs = model(inputs)\n",
    "        _, preds = torch.max(outputs, 1)\n",
    "        predictions.extend(preds.cpu().numpy())\n",
    "\n",
    "# Map and save submission\n",
    "submission_df = test_ids.copy()\n",
    "submission_df['label'] = map_predictions(predictions)\n",
    "submission_df.to_csv(submission_path, index=False)\n",
    "print(\"Submission saved at\", submission_path)\n"
   ]
  }
 ],
 "metadata": {
  "language_info": {
   "name": "python"
  }
 },
 "nbformat": 4,
 "nbformat_minor": 5
}
